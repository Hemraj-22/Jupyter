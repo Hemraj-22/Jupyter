{
 "cells": [
  {
   "cell_type": "markdown",
   "id": "21605e73-b3a5-4b4a-b2ad-ed35eada261b",
   "metadata": {},
   "source": [
    "# Python Test Questions 8 october 2024"
   ]
  },
  {
   "cell_type": "markdown",
   "id": "5ae3fdea-28fc-47c0-bcd9-d9d15324c96a",
   "metadata": {},
   "source": [
    "###  Q1. Create a function donation_total that accepts a positional-only argument donation_amount, a keyword-only argument service_fee_percent, and returns the total amount including the service fee."
   ]
  },
  {
   "cell_type": "code",
   "execution_count": 4,
   "id": "d80b2130-794b-4415-a629-ca8b643ac2d9",
   "metadata": {},
   "outputs": [
    {
     "name": "stdout",
     "output_type": "stream",
     "text": [
      "32100.0\n"
     ]
    }
   ],
   "source": [
    "def donation_total(amount,S_fee):\n",
    "    fee=(amount*S_fee)/100\n",
    "    return fee+amount\n",
    "print(donation_total(30000,S_fee=7))"
   ]
  },
  {
   "cell_type": "markdown",
   "id": "92e33c7a-cf20-4c8a-9f52-36bee1b93ca8",
   "metadata": {},
   "source": [
    "### Q2.  Write a function order_summary that takes an order_id as a positional argument, arbitrary *items, and keyword arguments for shipping_cost and tax_percent. The function should return the total cost of the order."
   ]
  },
  {
   "cell_type": "code",
   "execution_count": 7,
   "id": "6821acce-8c88-4178-b9c7-8e0d08da21c8",
   "metadata": {},
   "outputs": [
    {
     "name": "stdout",
     "output_type": "stream",
     "text": [
      "('1', 27770.0)\n"
     ]
    }
   ],
   "source": [
    "def order_summary(id,s_cost,tax,**items):\n",
    "    total=0\n",
    "    for i in items.values():\n",
    "        total+=i\n",
    "    tax=(total*tax)/100\n",
    "    total+=s_cost\n",
    "    return id,tax+total\n",
    "print(order_summary(\"1\",shirt=700,jeens=1600,shoes=20000,s_cost=40,tax=18,food=1200))"
   ]
  },
  {
   "cell_type": "markdown",
   "id": "3d408b3e-26ff-4aea-9a79-5ecf49489ff6",
   "metadata": {},
   "source": [
    "### Q3. Write a function plan_trip that takes a destination as a positional argument, and **kwargs for details such as duration, budget, and season. The function should print out a trip summary."
   ]
  },
  {
   "cell_type": "code",
   "execution_count": 10,
   "id": "04ce03e3-687b-4a87-aad2-e3ef28db4b1b",
   "metadata": {},
   "outputs": [
    {
     "name": "stdout",
     "output_type": "stream",
     "text": [
      "Your  UK Trip.\n",
      "Duration : 120 km\n",
      "Budget : 20000\n",
      "Season : Summer\n"
     ]
    }
   ],
   "source": [
    "def plan_trip(des,**kwargs):\n",
    "    print(\"Your \",des,\"Trip.\")\n",
    "    for key,values in kwargs.items():\n",
    "        print(f\"{key} : {values}\")\n",
    "plan_trip(\"UK\",Duration=\"120 km\",Budget=20000,Season=\"Summer\")"
   ]
  },
  {
   "cell_type": "markdown",
   "id": "345d6db4-e810-4c88-8e9d-78e0a6f39149",
   "metadata": {},
   "source": [
    "### Q4. Write a function apply_discount that takes two arguments: price and an optional discount keyword argument with a default value of 0. It should return the price after applying the discount. If the discount is not provided, the full price is returned."
   ]
  },
  {
   "cell_type": "code",
   "execution_count": 13,
   "id": "838cb0cf-e057-47be-9f0e-03c076c6a86b",
   "metadata": {},
   "outputs": [
    {
     "name": "stdout",
     "output_type": "stream",
     "text": [
      "With Discount: 18800\n",
      "With Out Discount:20000\n"
     ]
    }
   ],
   "source": [
    "def apply_discount(price,discount=0):\n",
    "    return price-discount\n",
    "print(f\"With Discount: {apply_discount(price=20000,discount=1200)}\")\n",
    "print(f\"With Out Discount:{ apply_discount(price=20000)}\")"
   ]
  },
  {
   "cell_type": "markdown",
   "id": "2feda2d5-19be-4af9-8f60-c0b379526a22",
   "metadata": {},
   "source": [
    "### Q5.  Create a function vacation_cost that takes a positional argument days, an arbitrary number of  *activities, and keyword arguments for flight_cost and hotel_cost. The function should calculate the total vacation cost by adding the cost of activities, flight, and hotel."
   ]
  },
  {
   "cell_type": "code",
   "execution_count": 16,
   "id": "68bc6a67-6387-4399-98b6-933bb3f5da83",
   "metadata": {},
   "outputs": [
    {
     "name": "stdout",
     "output_type": "stream",
     "text": [
      "7  Days of Vacation Total Cost.\n",
      "159200\n"
     ]
    }
   ],
   "source": [
    "def vacation_cost(days,flight,hotel,**all):\n",
    "    print(days,\" Days of Vacation Total Cost.\")\n",
    "    total=flight+hotel\n",
    "    for i in all.values():\n",
    "        total+=i\n",
    "    return total\n",
    "print(vacation_cost(7,flight=134000,hotel=17000,rideing=1200,swimming=1600,lanch=3400,taxi=2000))"
   ]
  },
  {
   "cell_type": "markdown",
   "id": "69928481-a86e-4abc-9b77-cf7e911f8928",
   "metadata": {},
   "source": [
    "### Q6. Write a function register_member that accepts arbitrary keyword arguments (**kwargs) for member  details (e.g., name, age, membership_type). The function should print all the member details.  Register multiple members with different sets of information."
   ]
  },
  {
   "cell_type": "code",
   "execution_count": 21,
   "id": "aa68147b-e223-4ba2-a091-e51e54342fd7",
   "metadata": {},
   "outputs": [
    {
     "name": "stdout",
     "output_type": "stream",
     "text": [
      "name : Vikas\n",
      "age : 10\n",
      "membership_type : Golden\n"
     ]
    }
   ],
   "source": [
    "def register_member(**kwargs):\n",
    "    for key,values in kwargs.items():\n",
    "        print(f\"{key} : {values}\")\n",
    "register_member(name=\"Vikas\",age=10,membership_type=\"Golden\")"
   ]
  },
  {
   "cell_type": "markdown",
   "id": "e21a2a86-6797-46e2-ad82-109283206348",
   "metadata": {},
   "source": [
    "### Q7. Write a function checkout that takes an arbitrary number of item prices using *args and returns the total cost. Simulate the checkout process for a few different customers buying multiple items."
   ]
  },
  {
   "cell_type": "code",
   "execution_count": 24,
   "id": "f0de2343-1c78-4e3a-84a1-1fb77d836b58",
   "metadata": {},
   "outputs": [
    {
     "name": "stdout",
     "output_type": "stream",
     "text": [
      "60\n"
     ]
    }
   ],
   "source": [
    "def checkout(*args):\n",
    "    total_cost = sum(args)\n",
    "    return total_cost\n",
    "\n",
    "print(checkout(10, 20, 30))  "
   ]
  },
  {
   "cell_type": "markdown",
   "id": "ba534be9-fe81-4bbd-8a31-f06827736b71",
   "metadata": {},
   "source": [
    "### Q8.  Create a function convert_temperature that takes a temperature argument and a scale argument  with a default value of \"Celsius\". The function should convert the temperature to Fahrenheit if the scale is \"Celsius\", otherwise convert it to Celsius. Call the function with and without the scale  argument."
   ]
  },
  {
   "cell_type": "code",
   "execution_count": 33,
   "id": "956f51e5-b096-4c75-aa96-921477c464ac",
   "metadata": {},
   "outputs": [
    {
     "name": "stdout",
     "output_type": "stream",
     "text": [
      "86.0\n",
      "97.22222222222223\n"
     ]
    }
   ],
   "source": [
    "def convert_temperature(temp, scale=\"Celsius\"):\n",
    "    if scale == \"Celsius\":\n",
    "        return temp * 9/5 + 32\n",
    "    else:\n",
    "        return (temp - 32) * 5/9\n",
    "\n",
    "print(convert_temperature(30))  \n",
    "print(convert_temperature(207, \"Fahrenheit\")) "
   ]
  },
  {
   "cell_type": "markdown",
   "id": "e83021c1-18d5-40fc-81e1-cadd2aae1b2b",
   "metadata": {},
   "source": [
    "### Q9. Write a function gym_membership that takes three keyword arguments: name, membership_type,  and duration. The function should return a message detailing the gym membership. Call the function  with keyword arguments."
   ]
  },
  {
   "cell_type": "code",
   "execution_count": 38,
   "id": "67e4bb75-792b-49da-a28f-3c03f514d1a1",
   "metadata": {},
   "outputs": [
    {
     "name": "stdout",
     "output_type": "stream",
     "text": [
      "Vikas's Standard membership lasts for 3 months.\n"
     ]
    }
   ],
   "source": [
    "def gym_membership(name, mem, duration):\n",
    "    return f\"{name}'s {mem} membership lasts for {duration} months.\"\n",
    "\n",
    "print(gym_membership(name=\"Vikas\", mem=\"Standard\", duration=3))"
   ]
  },
  {
   "cell_type": "markdown",
   "id": "a2d6b95d-a4a0-455c-b13b-f864817f5061",
   "metadata": {},
   "source": [
    "### Q10. Write a function meal_cost that takes two positional arguments: meal_price and tip_percent. It should return the total cost of the meal including the tip. Call the function with different values."
   ]
  },
  {
   "cell_type": "code",
   "execution_count": 41,
   "id": "5739c6c8-8bac-421f-9442-773f174b2045",
   "metadata": {},
   "outputs": [
    {
     "name": "stdout",
     "output_type": "stream",
     "text": [
      "230.0\n"
     ]
    }
   ],
   "source": [
    "def meal_cost(price, tip):\n",
    "    tips=price * tip / 100\n",
    "    return price+tips \n",
    "print(meal_cost(200, 15))"
   ]
  },
  {
   "cell_type": "markdown",
   "id": "d665f1e3-3d5b-4d6a-84ef-51a650f4d40f",
   "metadata": {},
   "source": [
    "## End.\n",
    "# Thanks "
   ]
  },
  {
   "cell_type": "code",
   "execution_count": null,
   "id": "a63d5ffd-9cd5-431a-ad33-899df8abe49e",
   "metadata": {},
   "outputs": [],
   "source": []
  }
 ],
 "metadata": {
  "kernelspec": {
   "display_name": "Python 3 (ipykernel)",
   "language": "python",
   "name": "python3"
  },
  "language_info": {
   "codemirror_mode": {
    "name": "ipython",
    "version": 3
   },
   "file_extension": ".py",
   "mimetype": "text/x-python",
   "name": "python",
   "nbconvert_exporter": "python",
   "pygments_lexer": "ipython3",
   "version": "3.11.7"
  }
 },
 "nbformat": 4,
 "nbformat_minor": 5
}
